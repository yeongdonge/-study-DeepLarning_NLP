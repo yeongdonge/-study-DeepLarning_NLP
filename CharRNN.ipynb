{
 "cells": [
  {
   "cell_type": "code",
   "execution_count": 3,
   "metadata": {},
   "outputs": [],
   "source": [
    "from IPython.display import Image\n",
    "# 단어 레벨에서 글자 레벨로 변경하여 RNN 구현"
   ]
  },
  {
   "cell_type": "code",
   "execution_count": 4,
   "metadata": {},
   "outputs": [
    {
     "data": {
      "image/png": "[encoded data removed]",
      "text/plain": [
       "<IPython.core.display.Image object>"
      ]
     },
     "execution_count": 4,
     "metadata": {},
     "output_type": "execute_result"
    }
   ],
   "source": [
    "Image('char_rnn1.png')"
   ]
  },
  {
   "cell_type": "code",
   "execution_count": 6,
   "metadata": {},
   "outputs": [],
   "source": [
    "# 데이터에 대한 이해와 전처리\n",
    "import numpy as np\n",
    "import urllib.request\n",
    "from tensorflow.keras.utils import to_categorical"
   ]
  },
  {
   "cell_type": "code",
   "execution_count": 7,
   "metadata": {},
   "outputs": [],
   "source": [
    "urllib.request.urlretrieve(\"http://www.gutenberg.org/files/11/11-0.txt\", filename=\"11-0.txt\")\n",
    "f = open('11-0.txt','rb')\n",
    "lines=[]\n",
    "for line in f:\n",
    "    line=line.strip() # strip()을 통해 \\r, \\n 제거\n",
    "    line=line.lower()\n",
    "    line=line.decode('ascii','ignore') # \\xe2\\x80\\x99 등과 같은 바이트 열 제거\n",
    "    if len(line) > 0:\n",
    "        lines.append(line)\n",
    "f.close()"
   ]
  },
  {
   "cell_type": "code",
   "execution_count": 8,
   "metadata": {},
   "outputs": [
    {
     "data": {
      "text/plain": [
       "['the project gutenberg ebook of alices adventures in wonderland, by lewis carroll',\n",
       " 'this ebook is for the use of anyone anywhere in the united states and',\n",
       " 'most other parts of the world at no cost and with almost no restrictions',\n",
       " 'whatsoever. you may copy it, give it away or re-use it under the terms',\n",
       " 'of the project gutenberg license included with this ebook or online at']"
      ]
     },
     "execution_count": 8,
     "metadata": {},
     "output_type": "execute_result"
    }
   ],
   "source": [
    "lines[:5]"
   ]
  },
  {
   "cell_type": "code",
   "execution_count": 9,
   "metadata": {},
   "outputs": [
    {
     "name": "stdout",
     "output_type": "stream",
     "text": [
      "문자열이 길이 또는 총 글자의 개수: 159484\n"
     ]
    }
   ],
   "source": [
    "# 하나의 문자열로 통합\n",
    "text = ' '.join(lines)\n",
    "print('문자열이 길이 또는 총 글자의 개수: %d' % len(text))"
   ]
  },
  {
   "cell_type": "code",
   "execution_count": 10,
   "metadata": {},
   "outputs": [
    {
     "name": "stdout",
     "output_type": "stream",
     "text": [
      "the project gutenberg ebook of alices adventures in wonderland, by lewis carroll this ebook is for the use of anyone anywhere in the united states and most other parts of the world at no cost and with\n"
     ]
    }
   ],
   "source": [
    "print(text[:200])"
   ]
  },
  {
   "cell_type": "code",
   "execution_count": 12,
   "metadata": {},
   "outputs": [
    {
     "name": "stdout",
     "output_type": "stream",
     "text": [
      "글자 집합의 크기 : 56\n"
     ]
    }
   ],
   "source": [
    "# 글자 집합 만들기\n",
    "char_vocab = sorted(list(set(text)))\n",
    "vocab_size = len(char_vocab)\n",
    "print('글자 집합의 크기 : {}'.format(vocab_size))"
   ]
  },
  {
   "cell_type": "code",
   "execution_count": 13,
   "metadata": {},
   "outputs": [],
   "source": [
    "# 방대한 데이터라도, 영어 단어를 표현하기 위해서 글자 집합에 포함되는 글자는 26개의 알파뱃,\n",
    "# 대문자라도 52개의 알파뱃으로 표현 가능"
   ]
  },
  {
   "cell_type": "code",
   "execution_count": 14,
   "metadata": {},
   "outputs": [
    {
     "name": "stdout",
     "output_type": "stream",
     "text": [
      "{' ': 0, '!': 1, '\"': 2, '#': 3, '$': 4, '%': 5, \"'\": 6, '(': 7, ')': 8, '*': 9, ',': 10, '-': 11, '.': 12, '/': 13, '0': 14, '1': 15, '2': 16, '3': 17, '4': 18, '5': 19, '6': 20, '7': 21, '8': 22, '9': 23, ':': 24, ';': 25, '?': 26, '[': 27, ']': 28, '_': 29, 'a': 30, 'b': 31, 'c': 32, 'd': 33, 'e': 34, 'f': 35, 'g': 36, 'h': 37, 'i': 38, 'j': 39, 'k': 40, 'l': 41, 'm': 42, 'n': 43, 'o': 44, 'p': 45, 'q': 46, 'r': 47, 's': 48, 't': 49, 'u': 50, 'v': 51, 'w': 52, 'x': 53, 'y': 54, 'z': 55}\n"
     ]
    }
   ],
   "source": [
    "char_to_index = dict((c,i) for i, c in enumerate(char_vocab)) # 글자에 고유한 정수 인덱스 부여\n",
    "print(char_to_index)"
   ]
  },
  {
   "cell_type": "code",
   "execution_count": 15,
   "metadata": {},
   "outputs": [],
   "source": [
    "# 인덱스로부터 글자를 리턴하는 index_to_char\n",
    "index_to_char = {}\n",
    "for key, value in char_to_index.items():\n",
    "    index_to_char[value] = key"
   ]
  },
  {
   "cell_type": "code",
   "execution_count": 16,
   "metadata": {},
   "outputs": [
    {
     "name": "stdout",
     "output_type": "stream",
     "text": [
      "문장 샘플의 수 : 2658\n"
     ]
    }
   ],
   "source": [
    "# 훈련데이터 구성\n",
    "seq_length = 60 # 문장의 길이 60\n",
    "n_samples = int(np.floor((len(text) -1)/seq_length)) # 문자열을 60등분\n",
    "print('문장 샘플의 수 : {}'.format(n_samples))"
   ]
  },
  {
   "cell_type": "code",
   "execution_count": 17,
   "metadata": {},
   "outputs": [],
   "source": [
    "train_X=[]\n",
    "train_y=[]\n",
    "\n",
    "for i in range(n_samples):\n",
    "    X_sample = text[i * seq_length: (i+1) * seq_length] \n",
    "    # 0:60 -> 60:120 -> 120:180로 loop를 돌면저 문장 샘플을 1개씩 가져온다.\n",
    "    X_encoded = [char_to_index[c] for c in X_sample] # 하나의 문장 생플에 대해서 정수 인코딩\n",
    "    train_X.append(X_encoded)\n",
    "    \n",
    "    y_sample = text[i * seq_length + 1: (i+1) * seq_length + 1] # 오른쪽으로 1칸 쉬프트\n",
    "    y_encoded = [char_to_index[c] for c in y_sample]\n",
    "    train_y.append(y_encoded)"
   ]
  },
  {
   "cell_type": "code",
   "execution_count": 18,
   "metadata": {},
   "outputs": [
    {
     "name": "stdout",
     "output_type": "stream",
     "text": [
      "[49, 37, 34, 0, 45, 47, 44, 39, 34, 32, 49, 0, 36, 50, 49, 34, 43, 31, 34, 47, 36, 0, 34, 31, 44, 44, 40, 0, 44, 35, 0, 30, 41, 38, 32, 34, 48, 0, 30, 33, 51, 34, 43, 49, 50, 47, 34, 48, 0, 38, 43, 0, 52, 44, 43, 33, 34, 47, 41, 30]\n"
     ]
    }
   ],
   "source": [
    "print(train_X[0])"
   ]
  },
  {
   "cell_type": "code",
   "execution_count": 19,
   "metadata": {},
   "outputs": [
    {
     "name": "stdout",
     "output_type": "stream",
     "text": [
      "[37, 34, 0, 45, 47, 44, 39, 34, 32, 49, 0, 36, 50, 49, 34, 43, 31, 34, 47, 36, 0, 34, 31, 44, 44, 40, 0, 44, 35, 0, 30, 41, 38, 32, 34, 48, 0, 30, 33, 51, 34, 43, 49, 50, 47, 34, 48, 0, 38, 43, 0, 52, 44, 43, 33, 34, 47, 41, 30, 43]\n"
     ]
    }
   ],
   "source": [
    "print(train_y[0])"
   ]
  },
  {
   "cell_type": "code",
   "execution_count": 20,
   "metadata": {},
   "outputs": [],
   "source": [
    "# 원 핫 인코딩\n",
    "train_X = to_categorical(train_X)\n",
    "train_y = to_categorical(train_y)"
   ]
  },
  {
   "cell_type": "code",
   "execution_count": 22,
   "metadata": {},
   "outputs": [
    {
     "name": "stdout",
     "output_type": "stream",
     "text": [
      "train_X의 크기(shape) : (2658, 60, 56)\n",
      "train_y의 크기(shape) : (2658, 60, 56)\n"
     ]
    }
   ],
   "source": [
    "print('train_X의 크기(shape) : {}'.format(train_X.shape))\n",
    "print('train_y의 크기(shape) : {}'.format(train_y.shape))"
   ]
  },
  {
   "cell_type": "code",
   "execution_count": 23,
   "metadata": {},
   "outputs": [],
   "source": [
    "# 모델 설계\n",
    "from tensorflow.keras.models import Sequential\n",
    "from tensorflow.keras.layers import Dense, LSTM, TimeDistributed"
   ]
  },
  {
   "cell_type": "code",
   "execution_count": 25,
   "metadata": {},
   "outputs": [],
   "source": [
    "model = Sequential()\n",
    "model.add(LSTM(256, input_shape=(None, train_X.shape[2]), return_sequences=True))\n",
    "model.add(LSTM(256, return_sequences=True))\n",
    "model.add(TimeDistributed(Dense(vocab_size, activation='softmax')))"
   ]
  },
  {
   "cell_type": "code",
   "execution_count": 28,
   "metadata": {},
   "outputs": [
    {
     "name": "stdout",
     "output_type": "stream",
     "text": [
      "Epoch 1/80\n",
      "84/84 - 9s - loss: 3.0654 - accuracy: 0.1820\n",
      "Epoch 2/80\n",
      "84/84 - 1s - loss: 2.7023 - accuracy: 0.2532\n",
      "Epoch 3/80\n",
      "84/84 - 1s - loss: 2.3672 - accuracy: 0.3346\n",
      "Epoch 4/80\n",
      "84/84 - 1s - loss: 2.2306 - accuracy: 0.3672\n",
      "Epoch 5/80\n",
      "84/84 - 1s - loss: 2.1178 - accuracy: 0.3937\n",
      "Epoch 6/80\n",
      "84/84 - 1s - loss: 2.0294 - accuracy: 0.4149\n",
      "Epoch 7/80\n",
      "84/84 - 1s - loss: 1.9557 - accuracy: 0.4351\n",
      "Epoch 8/80\n",
      "84/84 - 1s - loss: 1.8936 - accuracy: 0.4513\n",
      "Epoch 9/80\n",
      "84/84 - 1s - loss: 1.8359 - accuracy: 0.4682\n",
      "Epoch 10/80\n",
      "84/84 - 1s - loss: 1.7807 - accuracy: 0.4825\n",
      "Epoch 11/80\n",
      "84/84 - 1s - loss: 1.7337 - accuracy: 0.4935\n",
      "Epoch 12/80\n",
      "84/84 - 1s - loss: 1.6878 - accuracy: 0.5063\n",
      "Epoch 13/80\n",
      "84/84 - 1s - loss: 1.6466 - accuracy: 0.5167\n",
      "Epoch 14/80\n",
      "84/84 - 1s - loss: 1.6076 - accuracy: 0.5270\n",
      "Epoch 15/80\n",
      "84/84 - 1s - loss: 1.5720 - accuracy: 0.5365\n",
      "Epoch 16/80\n",
      "84/84 - 1s - loss: 1.5363 - accuracy: 0.5462\n",
      "Epoch 17/80\n",
      "84/84 - 1s - loss: 1.5042 - accuracy: 0.5547\n",
      "Epoch 18/80\n",
      "84/84 - 1s - loss: 1.4724 - accuracy: 0.5635\n",
      "Epoch 19/80\n",
      "84/84 - 1s - loss: 1.4404 - accuracy: 0.5725\n",
      "Epoch 20/80\n",
      "84/84 - 1s - loss: 1.4096 - accuracy: 0.5812\n",
      "Epoch 21/80\n",
      "84/84 - 1s - loss: 1.3811 - accuracy: 0.5899\n",
      "Epoch 22/80\n",
      "84/84 - 1s - loss: 1.3512 - accuracy: 0.5985\n",
      "Epoch 23/80\n",
      "84/84 - 1s - loss: 1.3271 - accuracy: 0.6049\n",
      "Epoch 24/80\n",
      "84/84 - 1s - loss: 1.3015 - accuracy: 0.6117\n",
      "Epoch 25/80\n",
      "84/84 - 1s - loss: 1.2683 - accuracy: 0.6214\n",
      "Epoch 26/80\n",
      "84/84 - 1s - loss: 1.2423 - accuracy: 0.6284\n",
      "Epoch 27/80\n",
      "84/84 - 1s - loss: 1.2135 - accuracy: 0.6382\n",
      "Epoch 28/80\n",
      "84/84 - 1s - loss: 1.1875 - accuracy: 0.6455\n",
      "Epoch 29/80\n",
      "84/84 - 1s - loss: 1.1630 - accuracy: 0.6520\n",
      "Epoch 30/80\n",
      "84/84 - 1s - loss: 1.1327 - accuracy: 0.6606\n",
      "Epoch 31/80\n",
      "84/84 - 1s - loss: 1.1108 - accuracy: 0.6675\n",
      "Epoch 32/80\n",
      "84/84 - 1s - loss: 1.0801 - accuracy: 0.6773\n",
      "Epoch 33/80\n",
      "84/84 - 1s - loss: 1.0505 - accuracy: 0.6852\n",
      "Epoch 34/80\n",
      "84/84 - 1s - loss: 1.0199 - accuracy: 0.6943\n",
      "Epoch 35/80\n",
      "84/84 - 1s - loss: 0.9948 - accuracy: 0.7025\n",
      "Epoch 36/80\n",
      "84/84 - 1s - loss: 0.9642 - accuracy: 0.7121\n",
      "Epoch 37/80\n",
      "84/84 - 1s - loss: 0.9391 - accuracy: 0.7195\n",
      "Epoch 38/80\n",
      "84/84 - 1s - loss: 0.9148 - accuracy: 0.7262\n",
      "Epoch 39/80\n",
      "84/84 - 1s - loss: 0.8884 - accuracy: 0.7351\n",
      "Epoch 40/80\n",
      "84/84 - 1s - loss: 0.8637 - accuracy: 0.7421\n",
      "Epoch 41/80\n",
      "84/84 - 1s - loss: 0.8341 - accuracy: 0.7518\n",
      "Epoch 42/80\n",
      "84/84 - 1s - loss: 0.8080 - accuracy: 0.7607\n",
      "Epoch 43/80\n",
      "84/84 - 1s - loss: 0.7835 - accuracy: 0.7682\n",
      "Epoch 44/80\n",
      "84/84 - 1s - loss: 0.7629 - accuracy: 0.7746\n",
      "Epoch 45/80\n",
      "84/84 - 1s - loss: 0.7309 - accuracy: 0.7854\n",
      "Epoch 46/80\n",
      "84/84 - 1s - loss: 0.7068 - accuracy: 0.7937\n",
      "Epoch 47/80\n",
      "84/84 - 1s - loss: 0.6842 - accuracy: 0.7999\n",
      "Epoch 48/80\n",
      "84/84 - 1s - loss: 0.6631 - accuracy: 0.8059\n",
      "Epoch 49/80\n",
      "84/84 - 1s - loss: 0.6398 - accuracy: 0.8133\n",
      "Epoch 50/80\n",
      "84/84 - 1s - loss: 0.6077 - accuracy: 0.8251\n",
      "Epoch 51/80\n",
      "84/84 - 1s - loss: 0.5855 - accuracy: 0.8327\n",
      "Epoch 52/80\n",
      "84/84 - 1s - loss: 0.5741 - accuracy: 0.8346\n",
      "Epoch 53/80\n",
      "84/84 - 1s - loss: 0.5471 - accuracy: 0.8441\n",
      "Epoch 54/80\n",
      "84/84 - 1s - loss: 0.5320 - accuracy: 0.8493\n",
      "Epoch 55/80\n",
      "84/84 - 1s - loss: 0.5119 - accuracy: 0.8541\n",
      "Epoch 56/80\n",
      "84/84 - 1s - loss: 0.4969 - accuracy: 0.8589\n",
      "Epoch 57/80\n",
      "84/84 - 1s - loss: 0.4705 - accuracy: 0.8695\n",
      "Epoch 58/80\n",
      "84/84 - 1s - loss: 0.4493 - accuracy: 0.8763\n",
      "Epoch 59/80\n",
      "84/84 - 1s - loss: 0.4283 - accuracy: 0.8831\n",
      "Epoch 60/80\n",
      "84/84 - 1s - loss: 0.4120 - accuracy: 0.8891\n",
      "Epoch 61/80\n",
      "84/84 - 1s - loss: 0.3940 - accuracy: 0.8941\n",
      "Epoch 62/80\n",
      "84/84 - 1s - loss: 0.3948 - accuracy: 0.8920\n",
      "Epoch 63/80\n",
      "84/84 - 1s - loss: 0.3859 - accuracy: 0.8943\n",
      "Epoch 64/80\n",
      "84/84 - 1s - loss: 0.3665 - accuracy: 0.9015\n",
      "Epoch 65/80\n",
      "84/84 - 1s - loss: 0.3505 - accuracy: 0.9067\n",
      "Epoch 66/80\n",
      "84/84 - 1s - loss: 0.3285 - accuracy: 0.9140\n",
      "Epoch 67/80\n",
      "84/84 - 1s - loss: 0.3113 - accuracy: 0.9202\n",
      "Epoch 68/80\n",
      "84/84 - 1s - loss: 0.2960 - accuracy: 0.9256\n",
      "Epoch 69/80\n",
      "84/84 - 1s - loss: 0.2889 - accuracy: 0.9270\n",
      "Epoch 70/80\n",
      "84/84 - 1s - loss: 0.2708 - accuracy: 0.9329\n",
      "Epoch 71/80\n",
      "84/84 - 1s - loss: 0.2952 - accuracy: 0.9216\n",
      "Epoch 72/80\n",
      "84/84 - 1s - loss: 0.2838 - accuracy: 0.9249\n",
      "Epoch 73/80\n",
      "84/84 - 1s - loss: 0.2536 - accuracy: 0.9367\n",
      "Epoch 74/80\n",
      "84/84 - 1s - loss: 0.2398 - accuracy: 0.9410\n",
      "Epoch 75/80\n",
      "84/84 - 1s - loss: 0.2272 - accuracy: 0.9446\n",
      "Epoch 76/80\n",
      "84/84 - 1s - loss: 0.2267 - accuracy: 0.9444\n",
      "Epoch 77/80\n",
      "84/84 - 1s - loss: 0.2201 - accuracy: 0.9455\n",
      "Epoch 78/80\n",
      "84/84 - 1s - loss: 0.2135 - accuracy: 0.9475\n",
      "Epoch 79/80\n",
      "84/84 - 1s - loss: 0.2072 - accuracy: 0.9490\n",
      "Epoch 80/80\n",
      "84/84 - 1s - loss: 0.2061 - accuracy: 0.9494\n"
     ]
    },
    {
     "data": {
      "text/plain": [
       "<tensorflow.python.keras.callbacks.History at 0x237db9f5130>"
      ]
     },
     "execution_count": 28,
     "metadata": {},
     "output_type": "execute_result"
    }
   ],
   "source": [
    "model.compile(loss='categorical_crossentropy', optimizer='adam', metrics=['accuracy'])\n",
    "model.fit(train_X, train_y, epochs=80, verbose=2)"
   ]
  },
  {
   "cell_type": "code",
   "execution_count": 31,
   "metadata": {},
   "outputs": [],
   "source": [
    "def sentence_generation(model, length):\n",
    "    ix = [np.random.randint(vocab_size)] # 글자에 대한 랜덤 인덱스 생성\n",
    "    y_char = [index_to_char[ix[-1]]] # 랜덤 익덱스로부터 글자 생성\n",
    "    print(ix[-1],'번 글자',y_char[-1],'로 예측을 시작!')\n",
    "    X = np.zeros((1, length, vocab_size)) # (1, length, 55) 크기의 X 생성. 즉, LSTM의 입력 시퀀스 생성\n",
    "\n",
    "    for i in range(length):\n",
    "        X[0][i][ix[-1]] = 1 # X[0][i][예측한 글자의 인덱스] = 1, 즉, 예측 글자를 다음 입력 시퀀스에 추가\n",
    "        print(index_to_char[ix[-1]], end=\"\")\n",
    "        ix = np.argmax(model.predict(X[:, :i+1, :])[0], 1)\n",
    "        y_char.append(index_to_char[ix[-1]])\n",
    "    return ('').join(y_char)"
   ]
  },
  {
   "cell_type": "code",
   "execution_count": 33,
   "metadata": {},
   "outputs": [
    {
     "name": "stdout",
     "output_type": "stream",
     "text": [
      "31 번 글자 b 로 예측을 시작!\n",
      "berg literary archive foundation, the manager of the project gutenberg literary archive foundation a"
     ]
    },
    {
     "data": {
      "text/plain": [
       "'berg literary archive foundation, the manager of the project gutenberg literary archive foundation af'"
      ]
     },
     "execution_count": 33,
     "metadata": {},
     "output_type": "execute_result"
    }
   ],
   "source": [
    "sentence_generation(model, 100)"
   ]
  },
  {
   "cell_type": "code",
   "execution_count": 35,
   "metadata": {},
   "outputs": [],
   "source": [
    "# 글자 단위 RNN으로 텍스트 생성\n",
    "import numpy as np\n",
    "from tensorflow.keras.utils import to_categorical"
   ]
  },
  {
   "cell_type": "code",
   "execution_count": 36,
   "metadata": {},
   "outputs": [],
   "source": [
    "text='''\n",
    "I get on with life as a programmer,\n",
    "I like to contemplate beer.\n",
    "But when I start to daydream,\n",
    "My mind turns straight to wine.\n",
    "\n",
    "Do I love wine more than beer?\n",
    "\n",
    "I like to use words about beer.\n",
    "But when I stop my talking,\n",
    "My mind turns straight to wine.\n",
    "\n",
    "I hate bugs and errors.\n",
    "But I just think back to wine,\n",
    "And I'm happy once again.\n",
    "\n",
    "I like to hang out with programming and deep learning.\n",
    "But when left alone,\n",
    "My mind turns straight to wine.\n",
    "'''"
   ]
  },
  {
   "cell_type": "code",
   "execution_count": 37,
   "metadata": {},
   "outputs": [
    {
     "name": "stdout",
     "output_type": "stream",
     "text": [
      "I get on with life as a programmer, I like to contemplate beer. But when I start to daydream, My mind turns straight to wine. Do I love wine more than beer? I like to use words about beer. But when I stop my talking, My mind turns straight to wine. I hate bugs and errors. But I just think back to wine, And I'm happy once again. I like to hang out with programming and deep learning. But when left alone, My mind turns straight to wine.\n"
     ]
    }
   ],
   "source": [
    "tokens = text.split() # \\n 제거\n",
    "text = ' '.join(tokens)\n",
    "print(text)"
   ]
  },
  {
   "cell_type": "code",
   "execution_count": 38,
   "metadata": {},
   "outputs": [
    {
     "name": "stdout",
     "output_type": "stream",
     "text": [
      "[' ', \"'\", ',', '.', '?', 'A', 'B', 'D', 'I', 'M', 'a', 'b', 'c', 'd', 'e', 'f', 'g', 'h', 'i', 'j', 'k', 'l', 'm', 'n', 'o', 'p', 'r', 's', 't', 'u', 'v', 'w', 'y']\n"
     ]
    }
   ],
   "source": [
    "# 중복을 제거한 글자 집합 생성\n",
    "char_vocab = sorted(list(set(text)))\n",
    "print(char_vocab)"
   ]
  },
  {
   "cell_type": "code",
   "execution_count": 39,
   "metadata": {},
   "outputs": [
    {
     "name": "stdout",
     "output_type": "stream",
     "text": [
      "글자 집합의 크기 : 33\n"
     ]
    }
   ],
   "source": [
    "vocab_size=len(char_vocab)\n",
    "print('글자 집합의 크기 : {}'.format(vocab_size))"
   ]
  },
  {
   "cell_type": "code",
   "execution_count": 41,
   "metadata": {},
   "outputs": [
    {
     "name": "stdout",
     "output_type": "stream",
     "text": [
      "{' ': 0, \"'\": 1, ',': 2, '.': 3, '?': 4, 'A': 5, 'B': 6, 'D': 7, 'I': 8, 'M': 9, 'a': 10, 'b': 11, 'c': 12, 'd': 13, 'e': 14, 'f': 15, 'g': 16, 'h': 17, 'i': 18, 'j': 19, 'k': 20, 'l': 21, 'm': 22, 'n': 23, 'o': 24, 'p': 25, 'r': 26, 's': 27, 't': 28, 'u': 29, 'v': 30, 'w': 31, 'y': 32}\n"
     ]
    }
   ],
   "source": [
    "char_to_index = dict((c,i) for i, c in enumerate(char_vocab)) # 글자에 고유한 정수 인덱스 부여\n",
    "print(char_to_index)"
   ]
  },
  {
   "cell_type": "code",
   "execution_count": 43,
   "metadata": {},
   "outputs": [
    {
     "name": "stdout",
     "output_type": "stream",
     "text": [
      "총 훈련 샘플의 수 : 426\n"
     ]
    }
   ],
   "source": [
    "# 입력 시퀀스의 길이, 즉, 모든 샘플들의 길이가 10이 되도록 데이터를 구성\n",
    "# 예측 대상이 되는 글자도 필요하므로, 우선 길이가 11이 되도록 구성\n",
    "length=11\n",
    "sequences=[]\n",
    "for i in range(length, len(text)):\n",
    "    seq=text[i-length:i]\n",
    "    sequences.append(seq)\n",
    "print('총 훈련 샘플의 수 : %d' % len(sequences))"
   ]
  },
  {
   "cell_type": "code",
   "execution_count": 44,
   "metadata": {},
   "outputs": [
    {
     "data": {
      "text/plain": [
       "['I get on wi',\n",
       " ' get on wit',\n",
       " 'get on with',\n",
       " 'et on with ',\n",
       " 't on with l',\n",
       " ' on with li',\n",
       " 'on with lif',\n",
       " 'n with life',\n",
       " ' with life ',\n",
       " 'with life a']"
      ]
     },
     "execution_count": 44,
     "metadata": {},
     "output_type": "execute_result"
    }
   ],
   "source": [
    "sequences[:10]"
   ]
  },
  {
   "cell_type": "code",
   "execution_count": 45,
   "metadata": {},
   "outputs": [],
   "source": [
    "X=[]\n",
    "for line in sequences: # 전체 데이터에서 문장 샘플을 1개씩 꺼낸다.\n",
    "    temp_X = [char_to_index[char] for char in line] # 문장 샘플에서 각 글자에 대해서 정수 인코딩을 수행\n",
    "    X.append(temp_X)"
   ]
  },
  {
   "cell_type": "code",
   "execution_count": 46,
   "metadata": {},
   "outputs": [
    {
     "name": "stdout",
     "output_type": "stream",
     "text": [
      "[8, 0, 16, 14, 28, 0, 24, 23, 0, 31, 18]\n",
      "[0, 16, 14, 28, 0, 24, 23, 0, 31, 18, 28]\n",
      "[16, 14, 28, 0, 24, 23, 0, 31, 18, 28, 17]\n",
      "[14, 28, 0, 24, 23, 0, 31, 18, 28, 17, 0]\n",
      "[28, 0, 24, 23, 0, 31, 18, 28, 17, 0, 21]\n"
     ]
    }
   ],
   "source": [
    "for line in X[:5]:\n",
    "    print(line)"
   ]
  },
  {
   "cell_type": "code",
   "execution_count": 47,
   "metadata": {},
   "outputs": [],
   "source": [
    "# 모든 샘플 문장에 대해서 맨 마지막 글자를 분리\n",
    "sequences=np.array(X)\n",
    "X=sequences[:,:-1]\n",
    "y=sequences[:,-1]"
   ]
  },
  {
   "cell_type": "code",
   "execution_count": 48,
   "metadata": {},
   "outputs": [
    {
     "name": "stdout",
     "output_type": "stream",
     "text": [
      "[ 8  0 16 14 28  0 24 23  0 31]\n",
      "[ 0 16 14 28  0 24 23  0 31 18]\n",
      "[16 14 28  0 24 23  0 31 18 28]\n",
      "[14 28  0 24 23  0 31 18 28 17]\n",
      "[28  0 24 23  0 31 18 28 17  0]\n"
     ]
    }
   ],
   "source": [
    "for line in X[:5]:\n",
    "    print(line)"
   ]
  },
  {
   "cell_type": "code",
   "execution_count": 49,
   "metadata": {},
   "outputs": [
    {
     "name": "stdout",
     "output_type": "stream",
     "text": [
      "[18 28 17  0 21]\n"
     ]
    }
   ],
   "source": [
    "print(y[:5])"
   ]
  },
  {
   "cell_type": "code",
   "execution_count": 50,
   "metadata": {},
   "outputs": [],
   "source": [
    "# X와 y에 대해서 원-핫 인코딩 수행\n",
    "sequences = [to_categorical(x, num_classes=vocab_size) for x in X] # X에 대한 원-핫 인코딩\n",
    "X = np.array(sequences)\n",
    "y = to_categorical(y, num_classes=vocab_size) # y에 대한 원-핫 인코딩"
   ]
  },
  {
   "cell_type": "code",
   "execution_count": 51,
   "metadata": {},
   "outputs": [
    {
     "name": "stdout",
     "output_type": "stream",
     "text": [
      "(426, 10, 33)\n"
     ]
    }
   ],
   "source": [
    "print(X.shape)"
   ]
  },
  {
   "cell_type": "code",
   "execution_count": 52,
   "metadata": {},
   "outputs": [],
   "source": [
    "# 모델 설계\n",
    "from tensorflow.keras.models import Sequential\n",
    "from tensorflow.keras.layers import Dense, LSTM\n",
    "from tensorflow.keras.preprocessing.sequence import pad_sequences"
   ]
  },
  {
   "cell_type": "code",
   "execution_count": 54,
   "metadata": {},
   "outputs": [],
   "source": [
    "model = Sequential()\n",
    "model.add(LSTM(80, input_shape=(X.shape[1], X.shape[2])))\n",
    "model.add(Dense(vocab_size, activation='softmax'))"
   ]
  },
  {
   "cell_type": "code",
   "execution_count": 56,
   "metadata": {},
   "outputs": [
    {
     "name": "stdout",
     "output_type": "stream",
     "text": [
      "Epoch 1/100\n",
      "14/14 - 2s - loss: 3.4499 - accuracy: 0.1643\n",
      "Epoch 2/100\n",
      "14/14 - 0s - loss: 3.2290 - accuracy: 0.1972\n",
      "Epoch 3/100\n",
      "14/14 - 0s - loss: 3.0411 - accuracy: 0.1972\n",
      "Epoch 4/100\n",
      "14/14 - 0s - loss: 2.9752 - accuracy: 0.1972\n",
      "Epoch 5/100\n",
      "14/14 - 0s - loss: 2.9473 - accuracy: 0.1972\n",
      "Epoch 6/100\n",
      "14/14 - 0s - loss: 2.9270 - accuracy: 0.1972\n",
      "Epoch 7/100\n",
      "14/14 - 0s - loss: 2.9118 - accuracy: 0.1972\n",
      "Epoch 8/100\n",
      "14/14 - 0s - loss: 2.8894 - accuracy: 0.1995\n",
      "Epoch 9/100\n",
      "14/14 - 0s - loss: 2.8580 - accuracy: 0.1972\n",
      "Epoch 10/100\n",
      "14/14 - 0s - loss: 2.8283 - accuracy: 0.1972\n",
      "Epoch 11/100\n",
      "14/14 - 0s - loss: 2.7877 - accuracy: 0.2042\n",
      "Epoch 12/100\n",
      "14/14 - 0s - loss: 2.7395 - accuracy: 0.2042\n",
      "Epoch 13/100\n",
      "14/14 - 0s - loss: 2.6826 - accuracy: 0.2324\n",
      "Epoch 14/100\n",
      "14/14 - 0s - loss: 2.6413 - accuracy: 0.2136\n",
      "Epoch 15/100\n",
      "14/14 - 0s - loss: 2.5954 - accuracy: 0.2606\n",
      "Epoch 16/100\n",
      "14/14 - 0s - loss: 2.5320 - accuracy: 0.2441\n",
      "Epoch 17/100\n",
      "14/14 - 0s - loss: 2.5058 - accuracy: 0.2770\n",
      "Epoch 18/100\n",
      "14/14 - 0s - loss: 2.4373 - accuracy: 0.3052\n",
      "Epoch 19/100\n",
      "14/14 - 0s - loss: 2.3913 - accuracy: 0.3052\n",
      "Epoch 20/100\n",
      "14/14 - 0s - loss: 2.3358 - accuracy: 0.3404\n",
      "Epoch 21/100\n",
      "14/14 - 0s - loss: 2.2826 - accuracy: 0.3521\n",
      "Epoch 22/100\n",
      "14/14 - 0s - loss: 2.2362 - accuracy: 0.3685\n",
      "Epoch 23/100\n",
      "14/14 - 0s - loss: 2.2265 - accuracy: 0.3568\n",
      "Epoch 24/100\n",
      "14/14 - 0s - loss: 2.1822 - accuracy: 0.3897\n",
      "Epoch 25/100\n",
      "14/14 - 0s - loss: 2.1203 - accuracy: 0.4014\n",
      "Epoch 26/100\n",
      "14/14 - 0s - loss: 2.0715 - accuracy: 0.4531\n",
      "Epoch 27/100\n",
      "14/14 - 0s - loss: 2.0405 - accuracy: 0.4319\n",
      "Epoch 28/100\n",
      "14/14 - 0s - loss: 1.9917 - accuracy: 0.4531\n",
      "Epoch 29/100\n",
      "14/14 - 0s - loss: 1.9541 - accuracy: 0.4742\n",
      "Epoch 30/100\n",
      "14/14 - 0s - loss: 1.9023 - accuracy: 0.4742\n",
      "Epoch 31/100\n",
      "14/14 - 0s - loss: 1.8645 - accuracy: 0.4836\n",
      "Epoch 32/100\n",
      "14/14 - 0s - loss: 1.8102 - accuracy: 0.5000\n",
      "Epoch 33/100\n",
      "14/14 - 0s - loss: 1.7934 - accuracy: 0.5094\n",
      "Epoch 34/100\n",
      "14/14 - 0s - loss: 1.7069 - accuracy: 0.5540\n",
      "Epoch 35/100\n",
      "14/14 - 0s - loss: 1.6836 - accuracy: 0.5352\n",
      "Epoch 36/100\n",
      "14/14 - 0s - loss: 1.6297 - accuracy: 0.5751\n",
      "Epoch 37/100\n",
      "14/14 - 0s - loss: 1.6033 - accuracy: 0.5728\n",
      "Epoch 38/100\n",
      "14/14 - 0s - loss: 1.5350 - accuracy: 0.5962\n",
      "Epoch 39/100\n",
      "14/14 - 0s - loss: 1.4953 - accuracy: 0.6150\n",
      "Epoch 40/100\n",
      "14/14 - 0s - loss: 1.4551 - accuracy: 0.6338\n",
      "Epoch 41/100\n",
      "14/14 - 0s - loss: 1.4172 - accuracy: 0.6408\n",
      "Epoch 42/100\n",
      "14/14 - 0s - loss: 1.3916 - accuracy: 0.6455\n",
      "Epoch 43/100\n",
      "14/14 - 0s - loss: 1.3639 - accuracy: 0.6549\n",
      "Epoch 44/100\n",
      "14/14 - 0s - loss: 1.3049 - accuracy: 0.6667\n",
      "Epoch 45/100\n",
      "14/14 - 0s - loss: 1.2570 - accuracy: 0.6901\n",
      "Epoch 46/100\n",
      "14/14 - 0s - loss: 1.2222 - accuracy: 0.6784\n",
      "Epoch 47/100\n",
      "14/14 - 0s - loss: 1.1892 - accuracy: 0.7113\n",
      "Epoch 48/100\n",
      "14/14 - 0s - loss: 1.1343 - accuracy: 0.7300\n",
      "Epoch 49/100\n",
      "14/14 - 0s - loss: 1.1233 - accuracy: 0.7371\n",
      "Epoch 50/100\n",
      "14/14 - 0s - loss: 1.0636 - accuracy: 0.7465\n",
      "Epoch 51/100\n",
      "14/14 - 0s - loss: 1.0247 - accuracy: 0.7629\n",
      "Epoch 52/100\n",
      "14/14 - 0s - loss: 0.9906 - accuracy: 0.7700\n",
      "Epoch 53/100\n",
      "14/14 - 0s - loss: 0.9587 - accuracy: 0.7840\n",
      "Epoch 54/100\n",
      "14/14 - 0s - loss: 0.9117 - accuracy: 0.8122\n",
      "Epoch 55/100\n",
      "14/14 - 0s - loss: 0.8847 - accuracy: 0.8146\n",
      "Epoch 56/100\n",
      "14/14 - 0s - loss: 0.8527 - accuracy: 0.8286\n",
      "Epoch 57/100\n",
      "14/14 - 0s - loss: 0.8217 - accuracy: 0.8310\n",
      "Epoch 58/100\n",
      "14/14 - 0s - loss: 0.8027 - accuracy: 0.8451\n",
      "Epoch 59/100\n",
      "14/14 - 0s - loss: 0.7791 - accuracy: 0.8357\n",
      "Epoch 60/100\n",
      "14/14 - 0s - loss: 0.7346 - accuracy: 0.8615\n",
      "Epoch 61/100\n",
      "14/14 - 0s - loss: 0.7056 - accuracy: 0.8732\n",
      "Epoch 62/100\n",
      "14/14 - 0s - loss: 0.6790 - accuracy: 0.8826\n",
      "Epoch 63/100\n",
      "14/14 - 0s - loss: 0.6463 - accuracy: 0.8850\n",
      "Epoch 64/100\n",
      "14/14 - 0s - loss: 0.6260 - accuracy: 0.9061\n",
      "Epoch 65/100\n",
      "14/14 - 0s - loss: 0.6108 - accuracy: 0.8991\n",
      "Epoch 66/100\n",
      "14/14 - 0s - loss: 0.5905 - accuracy: 0.9108\n",
      "Epoch 67/100\n",
      "14/14 - 0s - loss: 0.5627 - accuracy: 0.9249\n",
      "Epoch 68/100\n",
      "14/14 - 0s - loss: 0.5390 - accuracy: 0.9319\n",
      "Epoch 69/100\n",
      "14/14 - 0s - loss: 0.5099 - accuracy: 0.9319\n",
      "Epoch 70/100\n",
      "14/14 - 0s - loss: 0.4888 - accuracy: 0.9437\n",
      "Epoch 71/100\n",
      "14/14 - 0s - loss: 0.4758 - accuracy: 0.9319\n",
      "Epoch 72/100\n",
      "14/14 - 0s - loss: 0.4596 - accuracy: 0.9390\n",
      "Epoch 73/100\n",
      "14/14 - 0s - loss: 0.4313 - accuracy: 0.9484\n",
      "Epoch 74/100\n",
      "14/14 - 0s - loss: 0.4090 - accuracy: 0.9577\n",
      "Epoch 75/100\n",
      "14/14 - 0s - loss: 0.3926 - accuracy: 0.9531\n",
      "Epoch 76/100\n",
      "14/14 - 0s - loss: 0.3748 - accuracy: 0.9624\n",
      "Epoch 77/100\n",
      "14/14 - 0s - loss: 0.3625 - accuracy: 0.9624\n",
      "Epoch 78/100\n",
      "14/14 - 0s - loss: 0.3458 - accuracy: 0.9671\n",
      "Epoch 79/100\n",
      "14/14 - 0s - loss: 0.3356 - accuracy: 0.9742\n",
      "Epoch 80/100\n",
      "14/14 - 0s - loss: 0.3238 - accuracy: 0.9695\n",
      "Epoch 81/100\n",
      "14/14 - 0s - loss: 0.3109 - accuracy: 0.9695\n",
      "Epoch 82/100\n",
      "14/14 - 0s - loss: 0.3098 - accuracy: 0.9648\n",
      "Epoch 83/100\n",
      "14/14 - 0s - loss: 0.2873 - accuracy: 0.9718\n",
      "Epoch 84/100\n",
      "14/14 - 0s - loss: 0.2850 - accuracy: 0.9624\n",
      "Epoch 85/100\n",
      "14/14 - 0s - loss: 0.2749 - accuracy: 0.9742\n",
      "Epoch 86/100\n",
      "14/14 - 0s - loss: 0.2676 - accuracy: 0.9742\n",
      "Epoch 87/100\n",
      "14/14 - 0s - loss: 0.2533 - accuracy: 0.9695\n",
      "Epoch 88/100\n",
      "14/14 - 0s - loss: 0.2422 - accuracy: 0.9742\n",
      "Epoch 89/100\n",
      "14/14 - 0s - loss: 0.2329 - accuracy: 0.9765\n",
      "Epoch 90/100\n",
      "14/14 - 0s - loss: 0.2301 - accuracy: 0.9742\n",
      "Epoch 91/100\n",
      "14/14 - 0s - loss: 0.2287 - accuracy: 0.9789\n",
      "Epoch 92/100\n",
      "14/14 - 0s - loss: 0.2192 - accuracy: 0.9765\n",
      "Epoch 93/100\n",
      "14/14 - 0s - loss: 0.2064 - accuracy: 0.9742\n",
      "Epoch 94/100\n",
      "14/14 - 0s - loss: 0.1931 - accuracy: 0.9812\n",
      "Epoch 95/100\n",
      "14/14 - 0s - loss: 0.1930 - accuracy: 0.9765\n",
      "Epoch 96/100\n",
      "14/14 - 0s - loss: 0.1877 - accuracy: 0.9742\n",
      "Epoch 97/100\n",
      "14/14 - 0s - loss: 0.1872 - accuracy: 0.9765\n",
      "Epoch 98/100\n",
      "14/14 - 0s - loss: 0.1782 - accuracy: 0.9812\n",
      "Epoch 99/100\n",
      "14/14 - 0s - loss: 0.1746 - accuracy: 0.9812\n",
      "Epoch 100/100\n",
      "14/14 - 0s - loss: 0.1684 - accuracy: 0.9789\n"
     ]
    },
    {
     "data": {
      "text/plain": [
       "<tensorflow.python.keras.callbacks.History at 0x2371d8d12b0>"
      ]
     },
     "execution_count": 56,
     "metadata": {},
     "output_type": "execute_result"
    }
   ],
   "source": [
    "model.compile(loss='categorical_crossentropy', optimizer='adam', metrics=['accuracy'])\n",
    "model.fit(X, y, epochs=100, verbose=2)"
   ]
  },
  {
   "cell_type": "code",
   "execution_count": 57,
   "metadata": {},
   "outputs": [],
   "source": [
    "def sentence_generation(model, char_to_index, seq_length, seed_text, n):\n",
    "# 모델, 인덱스 정보, 문장 길이, 초기 시퀀스, 반복 횟수\n",
    "    init_text = seed_text # 문장 생성에 사용할 초기 시퀀스\n",
    "    sentence = ''\n",
    "\n",
    "    for _ in range(n): # n번 반복\n",
    "        encoded = [char_to_index[char] for char in seed_text] # 현재 시퀀스에 대한 정수 인코딩\n",
    "        encoded = pad_sequences([encoded], maxlen=seq_length, padding='pre') # 데이터에 대한 패딩\n",
    "        encoded = to_categorical(encoded, num_classes=len(char_to_index))\n",
    "        result = model.predict_classes(encoded, verbose=0)\n",
    "        # 입력한 X(현재 시퀀스)에 대해서 y를 예측하고 y(예측한 글자)를 result에 저장.\n",
    "        for char, index in char_to_index.items(): # 만약 예측한 글자와 인덱스와 동일한 글자가 있다면\n",
    "            if index == result: # 해당 글자가 예측 글자이므로 break\n",
    "                break\n",
    "        seed_text=seed_text + char # 현재 시퀀스 + 예측 글자를 현재 시퀀스로 변경\n",
    "        sentence=sentence + char # 예측 글자를 문장에 저장\n",
    "        # for문이므로 이 작업을 다시 반복\n",
    "\n",
    "    sentence = init_text + sentence\n",
    "    return sentence"
   ]
  },
  {
   "cell_type": "code",
   "execution_count": 59,
   "metadata": {},
   "outputs": [
    {
     "name": "stderr",
     "output_type": "stream",
     "text": [
      "C:\\Users\\User\\anaconda3\\lib\\site-packages\\tensorflow\\python\\keras\\engine\\sequential.py:450: UserWarning: `model.predict_classes()` is deprecated and will be removed after 2021-01-01. Please use instead:* `np.argmax(model.predict(x), axis=-1)`,   if your model does multi-class classification   (e.g. if it uses a `softmax` last-layer activation).* `(model.predict(x) > 0.5).astype(\"int32\")`,   if your model does binary classification   (e.g. if it uses a `sigmoid` last-layer activation).\n",
      "  warnings.warn('`model.predict_classes()` is deprecated and '\n"
     ]
    },
    {
     "name": "stdout",
     "output_type": "stream",
     "text": [
      "I get on with life as a programmer, I like to contemplate beer. But when I start to daydre\n"
     ]
    }
   ],
   "source": [
    "print(sentence_generation(model, char_to_index, 10, 'I get on w', 80))"
   ]
  },
  {
   "cell_type": "code",
   "execution_count": null,
   "metadata": {},
   "outputs": [],
   "source": []
  }
 ],
 "metadata": {
  "kernelspec": {
   "display_name": "Python 3",
   "language": "python",
   "name": "python3"
  },
  "language_info": {
   "codemirror_mode": {
    "name": "ipython",
    "version": 3
   },
   "file_extension": ".py",
   "mimetype": "text/x-python",
   "name": "python",
   "nbconvert_exporter": "python",
   "pygments_lexer": "ipython3",
   "version": "3.8.5"
  }
 },
 "nbformat": 4,
 "nbformat_minor": 4
}
