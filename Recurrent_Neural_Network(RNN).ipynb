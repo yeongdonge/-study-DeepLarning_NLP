{
 "cells": [
  {
   "cell_type": "code",
   "execution_count": 32,
   "metadata": {},
   "outputs": [],
   "source": [
    "from IPython.display import Image\n",
    "\n",
    "# 다음 단어 예측하기\n",
    "# 'An adorable little boy is spreading _____'"
   ]
  },
  {
   "cell_type": "markdown",
   "metadata": {},
   "source": [
    "<b> 기존 N-gram 언어 모델은 충분한 데이터를 관측하지 못하면 언어를 정확히 모델링하지 못하는 희소 문제가 있었음<br>\n",
    "    분석할 시퀀스가 존재하지 않으면, 예측할 수 없기 때문에 이에 탄생한 언어 모델이 NNLM"
   ]
  },
  {
   "cell_type": "code",
   "execution_count": 2,
   "metadata": {},
   "outputs": [],
   "source": [
    "# 케라스(Keras)로 RNN 구현"
   ]
  },
  {
   "cell_type": "markdown",
   "metadata": {},
   "source": [
    "<p> RNN 층을 추가하는 코드<br>\n",
    "    model.add(SimpleRNN(hidden_size)) # 가장 간단한 형태<br>\n",
    "    \n",
    "    model.add(SImpleRNN(hidden_size, input_shape=(timesteps, input_dim)) # 추가 인자를 사용할 때 \n",
    "    \n",
    "    model.add(SimpleRNN(hidden_size, input_length=M, input_dim=N)) # 다른 표기"
   ]
  },
  {
   "cell_type": "code",
   "execution_count": 4,
   "metadata": {},
   "outputs": [],
   "source": [
    "from keras.models import Sequential\n",
    "from keras.layers import SimpleRNN"
   ]
  },
  {
   "cell_type": "code",
   "execution_count": 5,
   "metadata": {},
   "outputs": [
    {
     "name": "stdout",
     "output_type": "stream",
     "text": [
      "Model: \"sequential\"\n",
      "_________________________________________________________________\n",
      "Layer (type)                 Output Shape              Param #   \n",
      "=================================================================\n",
      "simple_rnn (SimpleRNN)       (None, 3)                 42        \n",
      "=================================================================\n",
      "Total params: 42\n",
      "Trainable params: 42\n",
      "Non-trainable params: 0\n",
      "_________________________________________________________________\n"
     ]
    }
   ],
   "source": [
    "model = Sequential()\n",
    "model.add(SimpleRNN(3, input_shape=(2,10)))\n",
    "model.summary()\n",
    "# batch_size를 정의하지 않은 경우"
   ]
  },
  {
   "cell_type": "code",
   "execution_count": 7,
   "metadata": {
    "scrolled": true
   },
   "outputs": [
    {
     "name": "stdout",
     "output_type": "stream",
     "text": [
      "Model: \"sequential_2\"\n",
      "_________________________________________________________________\n",
      "Layer (type)                 Output Shape              Param #   \n",
      "=================================================================\n",
      "simple_rnn_1 (SimpleRNN)     (8, 3)                    42        \n",
      "=================================================================\n",
      "Total params: 42\n",
      "Trainable params: 42\n",
      "Non-trainable params: 0\n",
      "_________________________________________________________________\n"
     ]
    }
   ],
   "source": [
    "model = Sequential()\n",
    "model.add(SimpleRNN(3, batch_input_shape=(8,2,10)))\n",
    "model.summary()\n",
    "# batch_size 정의"
   ]
  },
  {
   "cell_type": "code",
   "execution_count": 10,
   "metadata": {},
   "outputs": [
    {
     "name": "stdout",
     "output_type": "stream",
     "text": [
      "Model: \"sequential_4\"\n",
      "_________________________________________________________________\n",
      "Layer (type)                 Output Shape              Param #   \n",
      "=================================================================\n",
      "simple_rnn_3 (SimpleRNN)     (8, 2, 3)                 42        \n",
      "=================================================================\n",
      "Total params: 42\n",
      "Trainable params: 42\n",
      "Non-trainable params: 0\n",
      "_________________________________________________________________\n"
     ]
    }
   ],
   "source": [
    "model = Sequential()\n",
    "model.add(SimpleRNN(3, batch_input_shape=(8,2,10),return_sequences=True))\n",
    "model.summary()\n",
    "# return_sequences 매개 변수에 True를 기재하여 3D텐서 리턴"
   ]
  },
  {
   "cell_type": "code",
   "execution_count": 13,
   "metadata": {},
   "outputs": [],
   "source": [
    "# 파이썬으로 RNN 구현\n",
    "# ht = tanh(WxXt + Whht-1+b)\n",
    "\n",
    "#pseudocode"
   ]
  },
  {
   "cell_type": "markdown",
   "metadata": {},
   "source": [
    "<p> hidden_state_t = 0 # 초기 은닉 상태를 0(벡터)로 초기화<br>\n",
    "    for input_t in input_length: #각 시점마다 입력을 받음<br>\n",
    "    output_t = tanh(input_t, hidden_state_t) # 각 시점에 대해 입력과 은닉 상태를 가지고 연산<br>\n",
    "    hidden_state_t = output_t # 계산 결과는 현재 시점의 은닉상태가 됨"
   ]
  },
  {
   "cell_type": "code",
   "execution_count": 17,
   "metadata": {},
   "outputs": [
    {
     "name": "stdout",
     "output_type": "stream",
     "text": [
      "[0. 0. 0. 0. 0. 0. 0. 0.]\n"
     ]
    }
   ],
   "source": [
    "import numpy as np\n",
    "\n",
    "timesteps = 10 # 시점의 수. NLP에서는 보통 문장의 길이가 된다.\n",
    "input_dim = 4 # 입력의 차원. NLP에서는 보통 단어 벡터의 차원이 된다.\n",
    "hidden_size = 8 # 은닉 상태의 크기. 메모리 셀의 용량\n",
    "\n",
    "inputs = np.random.random((timesteps, input_dim)) # 입력에 해당되는 2D 텐서\n",
    "\n",
    "hidden_state_t = np.zeros((hidden_size,))\n",
    "# 초기 은닉 상태는 0(벡터)로 초기화, 은닉 상태의 크기 hidden_size로 은닉 상태를 만듦.\n",
    "\n",
    "print(hidden_state_t) # 8의 크기를 가지는 은닉 상태. 현재는 초기 은닉 상태로 모든 차원이 0의 값을 가짐"
   ]
  },
  {
   "cell_type": "code",
   "execution_count": 18,
   "metadata": {},
   "outputs": [],
   "source": [
    "Wx = np.random.random((hidden_size, input_dim)) # (8, 4)r크기의 2D 텐서 생성. 입력에 대한 가중치\n",
    "Wh = np.random.random((hidden_size, hidden_size)) # (8, 8) 크기의 2D 텐서 생성. 은닉 상태에 대한 가중치\n",
    "\n",
    "b = np.random.random((hidden_size,)) # (8,)크기의 1D 텐서 생성. 이 값은 편향(bias)"
   ]
  },
  {
   "cell_type": "code",
   "execution_count": 21,
   "metadata": {},
   "outputs": [
    {
     "name": "stdout",
     "output_type": "stream",
     "text": [
      "(8, 4)\n",
      "(8, 8)\n",
      "(8,)\n"
     ]
    }
   ],
   "source": [
    "print(np.shape(Wx))\n",
    "print(np.shape(Wh))\n",
    "print(np.shape(b))\n",
    "\n",
    "# Wx : 은닉 상태의 크기 x 입력의 차원\n",
    "# Wh : 은닉 상태의 크기 x 은닉 상태의 크기\n",
    "# b : 은닉 상태의 크기"
   ]
  },
  {
   "cell_type": "code",
   "execution_count": 23,
   "metadata": {},
   "outputs": [
    {
     "name": "stdout",
     "output_type": "stream",
     "text": [
      "(1, 8)\n",
      "(2, 8)\n",
      "(3, 8)\n",
      "(4, 8)\n",
      "(5, 8)\n",
      "(6, 8)\n",
      "(7, 8)\n",
      "(8, 8)\n",
      "(9, 8)\n",
      "(10, 8)\n",
      "[[0.86772623 0.89073442 0.62638878 0.90996251 0.96125759 0.88088186\n",
      "  0.90893252 0.74319697]\n",
      " [0.9997119  0.99980275 0.99954901 0.99989351 0.99978664 0.99991183\n",
      "  0.99700807 0.99991043]\n",
      " [0.9999499  0.99998244 0.99992336 0.99998838 0.99998846 0.99999621\n",
      "  0.99967826 0.99998917]\n",
      " [0.99998403 0.99998681 0.99993693 0.99999508 0.99996953 0.99999719\n",
      "  0.9992502  0.99999466]\n",
      " [0.99983225 0.9999381  0.99989913 0.99997355 0.9999785  0.99999401\n",
      "  0.99953588 0.99997723]\n",
      " [0.9999033  0.99995948 0.99992493 0.99998217 0.99997557 0.99999091\n",
      "  0.99968088 0.9999868 ]\n",
      " [0.99994061 0.99997512 0.99995005 0.99999    0.99998094 0.99999288\n",
      "  0.99983344 0.99999175]\n",
      " [0.99999422 0.99999566 0.99995719 0.99999798 0.99998525 0.99999871\n",
      "  0.99958912 0.99999723]\n",
      " [0.99990933 0.99994146 0.99988786 0.99997293 0.99993497 0.99997653\n",
      "  0.99901491 0.99998618]\n",
      " [0.99993758 0.99996091 0.99991771 0.99998644 0.99996239 0.99999378\n",
      "  0.99932608 0.99998839]]\n"
     ]
    }
   ],
   "source": [
    "# RNN 층 동작\n",
    "total_hidden_states = []\n",
    "\n",
    "# 메모리 셀 동작\n",
    "for input_t in inputs:\n",
    "    output_t = np.tanh(np.dot(Wx,input_t) + np.dot(Wh, hidden_state_t) + b) # Wx * Xt * Wh * Ht-1 + b(bias)\n",
    "    total_hidden_states.append(list(output_t)) # 각 시점의 은닉 상태의 값을 계속해서 축적\n",
    "    \n",
    "    print(np.shape(total_hidden_states)) # 각 시점 t별 메모리 셀의 출력의 크기는 (timestep, output_dim)\n",
    "    hidden_state_t = output_t\n",
    "    \n",
    "total_hidden_states = np.stack(total_hidden_states, axis=0)\n",
    "# 출력 시 값을 깔끔하게 해준다.\n",
    "\n",
    "print(total_hidden_states) # (timesteps, output_dim)의 크기. 이 경우 (10,8)의 크기를 가지는 메모리 셀의 2D 텐서를 출력."
   ]
  },
  {
   "cell_type": "code",
   "execution_count": 24,
   "metadata": {},
   "outputs": [],
   "source": [
    "# 깊은 순환 신경망(Deep recurrent Neural Network)\n",
    "# 은닉층이 2개인 깊은(deep) 순환 신경망"
   ]
  },
  {
   "cell_type": "code",
   "execution_count": 26,
   "metadata": {},
   "outputs": [],
   "source": [
    "model = Sequential()\n",
    "model.add(SimpleRNN(hidden_size, return_sequences=True))\n",
    "model.add(SimpleRNN(hidden_size, return_sequences=True))\n",
    "# 첫번째 은닉층은 다음 은닉층이 존재하므로, return_sequences=True 를 설정하여 모든 시점에 대해서 은닉 상태 값을 다음 은닉층으로 보냄"
   ]
  },
  {
   "cell_type": "code",
   "execution_count": 27,
   "metadata": {},
   "outputs": [],
   "source": [
    "# 양방향 순황 신경망(Bidirectional Recurrent Neural Network)\n",
    "# 시점 t에서의 출력값을 예측할 때, 이전 시점의 데이터뿐만 아니라 이후 데이터로도 예측\n",
    "# Ex) Exercise is vert effective at [          ] belly fat.\n",
    "# 1) reducing\n",
    "# 2) increasing\n",
    "# 3) multiplying\n",
    "\n",
    "# 이전에 나온 단어들로만은 정답을 찾기 부족함, 목적어인 (belly fat)를 모르는 상태\n",
    "# R즉, RNN이 과거 시점(time step)의 데이터들을 참고해서, 찾고자하는 정답을 예측하지만\n",
    "# 실제 문제에서는 과거 시점의 데이터만 고려하는 것이 아닌, 향후 시점의 데이터에 힌트가 있는 경우도 많음\n",
    "# 그래서 고안된 것이 양방향 RNN"
   ]
  },
  {
   "cell_type": "code",
   "execution_count": 34,
   "metadata": {},
   "outputs": [
    {
     "data": {
      "image/png": "[encoded data removed]",
      "text/plain": [
       "<IPython.core.display.Image object>"
      ]
     },
     "execution_count": 34,
     "metadata": {},
     "output_type": "execute_result"
    }
   ],
   "source": [
    "Image('rnn_image5_ver2.png')"
   ]
  },
  {
   "cell_type": "code",
   "execution_count": 38,
   "metadata": {},
   "outputs": [],
   "source": [
    "# 첫 번째 메모리 셀 : 앞 시전의 은닉 상태를 전달받아 현재 은닉상태 계산\n",
    "# 두 번쨰 메모리 셀 : 뒤 시점의 은닉 상태를 전달받아 현재 은닉상태 계산\n",
    "\n",
    "from tensorflow.keras.models import Sequential\n",
    "from tensorflow.keras.layers import SimpleRNN, Bidirectional\n",
    "\n",
    "model = Sequential()\n",
    "model.add(Bidirectional(SimpleRNN(hidden_size, return_sequences = True), input_shape=(timesteps, input_dim)))"
   ]
  },
  {
   "cell_type": "code",
   "execution_count": 40,
   "metadata": {},
   "outputs": [
    {
     "data": {
      "image/png": "[encoded data removed]",
      "text/plain": [
       "<IPython.core.display.Image object>"
      ]
     },
     "execution_count": 40,
     "metadata": {},
     "output_type": "execute_result"
    }
   ],
   "source": [
    "Image('rnn_image6_ver3.png')\n",
    "# 양방향 RNN도 다수의 은닉층을 가질 수 있음"
   ]
  },
  {
   "cell_type": "code",
   "execution_count": 41,
   "metadata": {},
   "outputs": [],
   "source": [
    "# 은닉층이 4개인 경우\n",
    "model = Sequential()\n",
    "model.add(Bidirectional(SimpleRNN(hidden_size, return_sequences=True), input_shape=(timesteps, input_dim)))\n",
    "model.add(Bidirectional(SimpleRNN(hidden_size, return_sequences=True)))\n",
    "model.add(Bidirectional(SimpleRNN(hidden_size, return_sequences=True)))\n",
    "model.add(Bidirectional(SimpleRNN(hidden_size, return_sequences=True)))"
   ]
  },
  {
   "cell_type": "code",
   "execution_count": null,
   "metadata": {},
   "outputs": [],
   "source": []
  }
 ],
 "metadata": {
  "kernelspec": {
   "display_name": "Python 3",
   "language": "python",
   "name": "python3"
  },
  "language_info": {
   "codemirror_mode": {
    "name": "ipython",
    "version": 3
   },
   "file_extension": ".py",
   "mimetype": "text/x-python",
   "name": "python",
   "nbconvert_exporter": "python",
   "pygments_lexer": "ipython3",
   "version": "3.8.5"
  }
 },
 "nbformat": 4,
 "nbformat_minor": 4
}
